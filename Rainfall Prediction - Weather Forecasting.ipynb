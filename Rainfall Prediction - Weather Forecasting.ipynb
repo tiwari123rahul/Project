{
 "cells": [
  {
   "cell_type": "markdown",
   "id": "751c0e64",
   "metadata": {},
   "source": [
    "# Rainfall Prediction - Weather Forecasting"
   ]
  },
  {
   "cell_type": "code",
   "execution_count": 26,
   "id": "b6847c5e",
   "metadata": {},
   "outputs": [],
   "source": [
    "import pandas as pd\n",
    "import numpy as np\n",
    "import matplotlib.pyplot as plt\n",
    "import seaborn as sns\n",
    "from sklearn.model_selection import train_test_split\n",
    "from sklearn.preprocessing import StandardScaler\n",
    "import warnings\n",
    "warnings.filterwarnings('ignore')"
   ]
  },
  {
   "cell_type": "code",
   "execution_count": 27,
   "id": "09edcabd",
   "metadata": {},
   "outputs": [
    {
     "data": {
      "text/html": [
       "<div>\n",
       "<style scoped>\n",
       "    .dataframe tbody tr th:only-of-type {\n",
       "        vertical-align: middle;\n",
       "    }\n",
       "\n",
       "    .dataframe tbody tr th {\n",
       "        vertical-align: top;\n",
       "    }\n",
       "\n",
       "    .dataframe thead th {\n",
       "        text-align: right;\n",
       "    }\n",
       "</style>\n",
       "<table border=\"1\" class=\"dataframe\">\n",
       "  <thead>\n",
       "    <tr style=\"text-align: right;\">\n",
       "      <th></th>\n",
       "      <th>Date</th>\n",
       "      <th>Location</th>\n",
       "      <th>MinTemp</th>\n",
       "      <th>MaxTemp</th>\n",
       "      <th>Rainfall</th>\n",
       "      <th>Evaporation</th>\n",
       "      <th>Sunshine</th>\n",
       "      <th>WindGustDir</th>\n",
       "      <th>WindGustSpeed</th>\n",
       "      <th>WindDir9am</th>\n",
       "      <th>...</th>\n",
       "      <th>Humidity9am</th>\n",
       "      <th>Humidity3pm</th>\n",
       "      <th>Pressure9am</th>\n",
       "      <th>Pressure3pm</th>\n",
       "      <th>Cloud9am</th>\n",
       "      <th>Cloud3pm</th>\n",
       "      <th>Temp9am</th>\n",
       "      <th>Temp3pm</th>\n",
       "      <th>RainToday</th>\n",
       "      <th>RainTomorrow</th>\n",
       "    </tr>\n",
       "  </thead>\n",
       "  <tbody>\n",
       "    <tr>\n",
       "      <th>0</th>\n",
       "      <td>2008-12-01</td>\n",
       "      <td>Albury</td>\n",
       "      <td>13.4</td>\n",
       "      <td>22.9</td>\n",
       "      <td>0.6</td>\n",
       "      <td>NaN</td>\n",
       "      <td>NaN</td>\n",
       "      <td>W</td>\n",
       "      <td>44.0</td>\n",
       "      <td>W</td>\n",
       "      <td>...</td>\n",
       "      <td>71.0</td>\n",
       "      <td>22.0</td>\n",
       "      <td>1007.7</td>\n",
       "      <td>1007.1</td>\n",
       "      <td>8.0</td>\n",
       "      <td>NaN</td>\n",
       "      <td>16.9</td>\n",
       "      <td>21.8</td>\n",
       "      <td>No</td>\n",
       "      <td>No</td>\n",
       "    </tr>\n",
       "    <tr>\n",
       "      <th>1</th>\n",
       "      <td>2008-12-02</td>\n",
       "      <td>Albury</td>\n",
       "      <td>7.4</td>\n",
       "      <td>25.1</td>\n",
       "      <td>0.0</td>\n",
       "      <td>NaN</td>\n",
       "      <td>NaN</td>\n",
       "      <td>WNW</td>\n",
       "      <td>44.0</td>\n",
       "      <td>NNW</td>\n",
       "      <td>...</td>\n",
       "      <td>44.0</td>\n",
       "      <td>25.0</td>\n",
       "      <td>1010.6</td>\n",
       "      <td>1007.8</td>\n",
       "      <td>NaN</td>\n",
       "      <td>NaN</td>\n",
       "      <td>17.2</td>\n",
       "      <td>24.3</td>\n",
       "      <td>No</td>\n",
       "      <td>No</td>\n",
       "    </tr>\n",
       "    <tr>\n",
       "      <th>2</th>\n",
       "      <td>2008-12-03</td>\n",
       "      <td>Albury</td>\n",
       "      <td>12.9</td>\n",
       "      <td>25.7</td>\n",
       "      <td>0.0</td>\n",
       "      <td>NaN</td>\n",
       "      <td>NaN</td>\n",
       "      <td>WSW</td>\n",
       "      <td>46.0</td>\n",
       "      <td>W</td>\n",
       "      <td>...</td>\n",
       "      <td>38.0</td>\n",
       "      <td>30.0</td>\n",
       "      <td>1007.6</td>\n",
       "      <td>1008.7</td>\n",
       "      <td>NaN</td>\n",
       "      <td>2.0</td>\n",
       "      <td>21.0</td>\n",
       "      <td>23.2</td>\n",
       "      <td>No</td>\n",
       "      <td>No</td>\n",
       "    </tr>\n",
       "    <tr>\n",
       "      <th>3</th>\n",
       "      <td>2008-12-04</td>\n",
       "      <td>Albury</td>\n",
       "      <td>9.2</td>\n",
       "      <td>28.0</td>\n",
       "      <td>0.0</td>\n",
       "      <td>NaN</td>\n",
       "      <td>NaN</td>\n",
       "      <td>NE</td>\n",
       "      <td>24.0</td>\n",
       "      <td>SE</td>\n",
       "      <td>...</td>\n",
       "      <td>45.0</td>\n",
       "      <td>16.0</td>\n",
       "      <td>1017.6</td>\n",
       "      <td>1012.8</td>\n",
       "      <td>NaN</td>\n",
       "      <td>NaN</td>\n",
       "      <td>18.1</td>\n",
       "      <td>26.5</td>\n",
       "      <td>No</td>\n",
       "      <td>No</td>\n",
       "    </tr>\n",
       "    <tr>\n",
       "      <th>4</th>\n",
       "      <td>2008-12-05</td>\n",
       "      <td>Albury</td>\n",
       "      <td>17.5</td>\n",
       "      <td>32.3</td>\n",
       "      <td>1.0</td>\n",
       "      <td>NaN</td>\n",
       "      <td>NaN</td>\n",
       "      <td>W</td>\n",
       "      <td>41.0</td>\n",
       "      <td>ENE</td>\n",
       "      <td>...</td>\n",
       "      <td>82.0</td>\n",
       "      <td>33.0</td>\n",
       "      <td>1010.8</td>\n",
       "      <td>1006.0</td>\n",
       "      <td>7.0</td>\n",
       "      <td>8.0</td>\n",
       "      <td>17.8</td>\n",
       "      <td>29.7</td>\n",
       "      <td>No</td>\n",
       "      <td>No</td>\n",
       "    </tr>\n",
       "  </tbody>\n",
       "</table>\n",
       "<p>5 rows × 23 columns</p>\n",
       "</div>"
      ],
      "text/plain": [
       "         Date Location  MinTemp  MaxTemp  Rainfall  Evaporation  Sunshine  \\\n",
       "0  2008-12-01   Albury     13.4     22.9       0.6          NaN       NaN   \n",
       "1  2008-12-02   Albury      7.4     25.1       0.0          NaN       NaN   \n",
       "2  2008-12-03   Albury     12.9     25.7       0.0          NaN       NaN   \n",
       "3  2008-12-04   Albury      9.2     28.0       0.0          NaN       NaN   \n",
       "4  2008-12-05   Albury     17.5     32.3       1.0          NaN       NaN   \n",
       "\n",
       "  WindGustDir  WindGustSpeed WindDir9am  ... Humidity9am  Humidity3pm  \\\n",
       "0           W           44.0          W  ...        71.0         22.0   \n",
       "1         WNW           44.0        NNW  ...        44.0         25.0   \n",
       "2         WSW           46.0          W  ...        38.0         30.0   \n",
       "3          NE           24.0         SE  ...        45.0         16.0   \n",
       "4           W           41.0        ENE  ...        82.0         33.0   \n",
       "\n",
       "   Pressure9am  Pressure3pm  Cloud9am  Cloud3pm  Temp9am  Temp3pm  RainToday  \\\n",
       "0       1007.7       1007.1       8.0       NaN     16.9     21.8         No   \n",
       "1       1010.6       1007.8       NaN       NaN     17.2     24.3         No   \n",
       "2       1007.6       1008.7       NaN       2.0     21.0     23.2         No   \n",
       "3       1017.6       1012.8       NaN       NaN     18.1     26.5         No   \n",
       "4       1010.8       1006.0       7.0       8.0     17.8     29.7         No   \n",
       "\n",
       "   RainTomorrow  \n",
       "0            No  \n",
       "1            No  \n",
       "2            No  \n",
       "3            No  \n",
       "4            No  \n",
       "\n",
       "[5 rows x 23 columns]"
      ]
     },
     "execution_count": 27,
     "metadata": {},
     "output_type": "execute_result"
    }
   ],
   "source": [
    "WF_data = pd.read_csv('https://raw.githubusercontent.com/dsrscientist/dataset3/main/weatherAUS.csv')\n",
    "WF_data.head()"
   ]
  },
  {
   "cell_type": "code",
   "execution_count": 28,
   "id": "2003c8a7",
   "metadata": {},
   "outputs": [
    {
     "data": {
      "text/plain": [
       "(8425, 23)"
      ]
     },
     "execution_count": 28,
     "metadata": {},
     "output_type": "execute_result"
    }
   ],
   "source": [
    "WF_data.shape"
   ]
  },
  {
   "cell_type": "code",
   "execution_count": 29,
   "id": "cce68aa7",
   "metadata": {},
   "outputs": [
    {
     "data": {
      "text/plain": [
       "Index(['Date', 'Location', 'MinTemp', 'MaxTemp', 'Rainfall', 'Evaporation',\n",
       "       'Sunshine', 'WindGustDir', 'WindGustSpeed', 'WindDir9am', 'WindDir3pm',\n",
       "       'WindSpeed9am', 'WindSpeed3pm', 'Humidity9am', 'Humidity3pm',\n",
       "       'Pressure9am', 'Pressure3pm', 'Cloud9am', 'Cloud3pm', 'Temp9am',\n",
       "       'Temp3pm', 'RainToday', 'RainTomorrow'],\n",
       "      dtype='object')"
      ]
     },
     "execution_count": 29,
     "metadata": {},
     "output_type": "execute_result"
    }
   ],
   "source": [
    "WF_data.columns"
   ]
  },
  {
   "cell_type": "code",
   "execution_count": 30,
   "id": "364277fb",
   "metadata": {},
   "outputs": [
    {
     "name": "stdout",
     "output_type": "stream",
     "text": [
      "<class 'pandas.core.frame.DataFrame'>\n",
      "RangeIndex: 8425 entries, 0 to 8424\n",
      "Data columns (total 23 columns):\n",
      " #   Column         Non-Null Count  Dtype  \n",
      "---  ------         --------------  -----  \n",
      " 0   Date           8425 non-null   object \n",
      " 1   Location       8425 non-null   object \n",
      " 2   MinTemp        8350 non-null   float64\n",
      " 3   MaxTemp        8365 non-null   float64\n",
      " 4   Rainfall       8185 non-null   float64\n",
      " 5   Evaporation    4913 non-null   float64\n",
      " 6   Sunshine       4431 non-null   float64\n",
      " 7   WindGustDir    7434 non-null   object \n",
      " 8   WindGustSpeed  7434 non-null   float64\n",
      " 9   WindDir9am     7596 non-null   object \n",
      " 10  WindDir3pm     8117 non-null   object \n",
      " 11  WindSpeed9am   8349 non-null   float64\n",
      " 12  WindSpeed3pm   8318 non-null   float64\n",
      " 13  Humidity9am    8366 non-null   float64\n",
      " 14  Humidity3pm    8323 non-null   float64\n",
      " 15  Pressure9am    7116 non-null   float64\n",
      " 16  Pressure3pm    7113 non-null   float64\n",
      " 17  Cloud9am       6004 non-null   float64\n",
      " 18  Cloud3pm       5970 non-null   float64\n",
      " 19  Temp9am        8369 non-null   float64\n",
      " 20  Temp3pm        8329 non-null   float64\n",
      " 21  RainToday      8185 non-null   object \n",
      " 22  RainTomorrow   8186 non-null   object \n",
      "dtypes: float64(16), object(7)\n",
      "memory usage: 1.5+ MB\n"
     ]
    }
   ],
   "source": [
    "WF_data.info()"
   ]
  },
  {
   "cell_type": "code",
   "execution_count": 31,
   "id": "0752ae37",
   "metadata": {},
   "outputs": [
    {
     "data": {
      "text/plain": [
       "Date                0\n",
       "Location            0\n",
       "MinTemp            75\n",
       "MaxTemp            60\n",
       "Rainfall          240\n",
       "Evaporation      3512\n",
       "Sunshine         3994\n",
       "WindGustDir       991\n",
       "WindGustSpeed     991\n",
       "WindDir9am        829\n",
       "WindDir3pm        308\n",
       "WindSpeed9am       76\n",
       "WindSpeed3pm      107\n",
       "Humidity9am        59\n",
       "Humidity3pm       102\n",
       "Pressure9am      1309\n",
       "Pressure3pm      1312\n",
       "Cloud9am         2421\n",
       "Cloud3pm         2455\n",
       "Temp9am            56\n",
       "Temp3pm            96\n",
       "RainToday         240\n",
       "RainTomorrow      239\n",
       "dtype: int64"
      ]
     },
     "execution_count": 31,
     "metadata": {},
     "output_type": "execute_result"
    }
   ],
   "source": [
    "WF_data.isnull().sum()"
   ]
  },
  {
   "cell_type": "code",
   "execution_count": 32,
   "id": "825bc1f5",
   "metadata": {},
   "outputs": [
    {
     "name": "stdout",
     "output_type": "stream",
     "text": [
      "categorical features:\n",
      "['Date', 'Location', 'WindGustDir', 'WindDir9am', 'WindDir3pm', 'RainToday', 'RainTomorrow'] \n",
      "\n",
      "numerical features:\n",
      "['MinTemp', 'MaxTemp', 'Rainfall', 'Evaporation', 'Sunshine', 'WindGustSpeed', 'WindSpeed9am', 'WindSpeed3pm', 'Humidity9am', 'Humidity3pm', 'Pressure9am', 'Pressure3pm', 'Cloud9am', 'Cloud3pm', 'Temp9am', 'Temp3pm']\n"
     ]
    }
   ],
   "source": [
    "### Getting numerical features and categorical features\n",
    "num_features=[col for col in WF_data.columns if WF_data[col].dtypes !='O']\n",
    "cat_features=[col for col in WF_data.columns if col not in num_features]\n",
    "print(\"categorical features:\\n{}\".format(cat_features),\"\\n\")\n",
    "print(\"numerical features:\\n{}\".format(num_features))"
   ]
  },
  {
   "cell_type": "code",
   "execution_count": 33,
   "id": "848f2a07",
   "metadata": {},
   "outputs": [
    {
     "name": "stdout",
     "output_type": "stream",
     "text": [
      "number of categorical_features: 7\n",
      "number of numerical_features: 16\n"
     ]
    }
   ],
   "source": [
    "print('number of categorical_features:',len(cat_features))\n",
    "print('number of numerical_features:',len(num_features))"
   ]
  },
  {
   "cell_type": "code",
   "execution_count": 34,
   "id": "6a071166",
   "metadata": {},
   "outputs": [
    {
     "name": "stdout",
     "output_type": "stream",
     "text": [
      "features contain nan_values:['MinTemp', 'MaxTemp', 'Rainfall', 'Evaporation', 'Sunshine', 'WindGustDir', 'WindGustSpeed', 'WindDir9am', 'WindDir3pm', 'WindSpeed9am', 'WindSpeed3pm', 'Humidity9am', 'Humidity3pm', 'Pressure9am', 'Pressure3pm', 'Cloud9am', 'Cloud3pm', 'Temp9am', 'Temp3pm', 'RainToday', 'RainTomorrow']\n"
     ]
    }
   ],
   "source": [
    "### Getting features contain nan values\n",
    "nan_features=[col for col in WF_data.columns if WF_data[col].isnull().any()]\n",
    "print(\"features contain nan_values:{}\".format(nan_features))"
   ]
  },
  {
   "cell_type": "code",
   "execution_count": 35,
   "id": "074c4e12",
   "metadata": {},
   "outputs": [
    {
     "data": {
      "text/plain": [
       "MinTemp          0.008902\n",
       "MaxTemp          0.007122\n",
       "Rainfall         0.028487\n",
       "Evaporation      0.416855\n",
       "Sunshine         0.474065\n",
       "WindGustDir      0.117626\n",
       "WindGustSpeed    0.117626\n",
       "WindDir9am       0.098398\n",
       "WindDir3pm       0.036558\n",
       "WindSpeed9am     0.009021\n",
       "WindSpeed3pm     0.012700\n",
       "Humidity9am      0.007003\n",
       "Humidity3pm      0.012107\n",
       "Pressure9am      0.155371\n",
       "Pressure3pm      0.155727\n",
       "Cloud9am         0.287359\n",
       "Cloud3pm         0.291395\n",
       "Temp9am          0.006647\n",
       "Temp3pm          0.011395\n",
       "RainToday        0.028487\n",
       "RainTomorrow     0.028368\n",
       "dtype: float64"
      ]
     },
     "execution_count": 35,
     "metadata": {},
     "output_type": "execute_result"
    }
   ],
   "source": [
    "### average values for nan values\n",
    "WF_data[nan_features].isnull().mean()"
   ]
  },
  {
   "cell_type": "code",
   "execution_count": 36,
   "id": "8ac0c326",
   "metadata": {},
   "outputs": [
    {
     "data": {
      "text/html": [
       "<div>\n",
       "<style scoped>\n",
       "    .dataframe tbody tr th:only-of-type {\n",
       "        vertical-align: middle;\n",
       "    }\n",
       "\n",
       "    .dataframe tbody tr th {\n",
       "        vertical-align: top;\n",
       "    }\n",
       "\n",
       "    .dataframe thead th {\n",
       "        text-align: right;\n",
       "    }\n",
       "</style>\n",
       "<table border=\"1\" class=\"dataframe\">\n",
       "  <thead>\n",
       "    <tr style=\"text-align: right;\">\n",
       "      <th></th>\n",
       "      <th>MinTemp</th>\n",
       "      <th>MaxTemp</th>\n",
       "      <th>Rainfall</th>\n",
       "      <th>Evaporation</th>\n",
       "      <th>Sunshine</th>\n",
       "      <th>WindGustSpeed</th>\n",
       "      <th>WindSpeed9am</th>\n",
       "      <th>WindSpeed3pm</th>\n",
       "      <th>Humidity9am</th>\n",
       "      <th>Humidity3pm</th>\n",
       "      <th>Pressure9am</th>\n",
       "      <th>Pressure3pm</th>\n",
       "      <th>Cloud9am</th>\n",
       "      <th>Cloud3pm</th>\n",
       "      <th>Temp9am</th>\n",
       "      <th>Temp3pm</th>\n",
       "    </tr>\n",
       "  </thead>\n",
       "  <tbody>\n",
       "    <tr>\n",
       "      <th>count</th>\n",
       "      <td>8350.000000</td>\n",
       "      <td>8365.000000</td>\n",
       "      <td>8185.000000</td>\n",
       "      <td>4913.000000</td>\n",
       "      <td>4431.000000</td>\n",
       "      <td>7434.000000</td>\n",
       "      <td>8349.000000</td>\n",
       "      <td>8318.000000</td>\n",
       "      <td>8366.000000</td>\n",
       "      <td>8323.000000</td>\n",
       "      <td>7116.000000</td>\n",
       "      <td>7113.000000</td>\n",
       "      <td>6004.000000</td>\n",
       "      <td>5970.000000</td>\n",
       "      <td>8369.000000</td>\n",
       "      <td>8329.000000</td>\n",
       "    </tr>\n",
       "    <tr>\n",
       "      <th>mean</th>\n",
       "      <td>13.193305</td>\n",
       "      <td>23.859976</td>\n",
       "      <td>2.805913</td>\n",
       "      <td>5.389395</td>\n",
       "      <td>7.632205</td>\n",
       "      <td>40.174469</td>\n",
       "      <td>13.847646</td>\n",
       "      <td>18.533662</td>\n",
       "      <td>67.822496</td>\n",
       "      <td>51.249790</td>\n",
       "      <td>1017.640233</td>\n",
       "      <td>1015.236075</td>\n",
       "      <td>4.566622</td>\n",
       "      <td>4.503183</td>\n",
       "      <td>17.762015</td>\n",
       "      <td>22.442934</td>\n",
       "    </tr>\n",
       "    <tr>\n",
       "      <th>std</th>\n",
       "      <td>5.403596</td>\n",
       "      <td>6.136408</td>\n",
       "      <td>10.459379</td>\n",
       "      <td>5.044484</td>\n",
       "      <td>3.896235</td>\n",
       "      <td>14.665721</td>\n",
       "      <td>10.174579</td>\n",
       "      <td>9.766986</td>\n",
       "      <td>16.833283</td>\n",
       "      <td>18.423774</td>\n",
       "      <td>6.828699</td>\n",
       "      <td>6.766681</td>\n",
       "      <td>2.877658</td>\n",
       "      <td>2.731659</td>\n",
       "      <td>5.627035</td>\n",
       "      <td>5.980020</td>\n",
       "    </tr>\n",
       "    <tr>\n",
       "      <th>min</th>\n",
       "      <td>-2.000000</td>\n",
       "      <td>8.200000</td>\n",
       "      <td>0.000000</td>\n",
       "      <td>0.000000</td>\n",
       "      <td>0.000000</td>\n",
       "      <td>7.000000</td>\n",
       "      <td>0.000000</td>\n",
       "      <td>0.000000</td>\n",
       "      <td>10.000000</td>\n",
       "      <td>6.000000</td>\n",
       "      <td>989.800000</td>\n",
       "      <td>982.900000</td>\n",
       "      <td>0.000000</td>\n",
       "      <td>0.000000</td>\n",
       "      <td>1.900000</td>\n",
       "      <td>7.300000</td>\n",
       "    </tr>\n",
       "    <tr>\n",
       "      <th>25%</th>\n",
       "      <td>9.200000</td>\n",
       "      <td>19.300000</td>\n",
       "      <td>0.000000</td>\n",
       "      <td>2.600000</td>\n",
       "      <td>4.750000</td>\n",
       "      <td>30.000000</td>\n",
       "      <td>6.000000</td>\n",
       "      <td>11.000000</td>\n",
       "      <td>56.000000</td>\n",
       "      <td>39.000000</td>\n",
       "      <td>1013.000000</td>\n",
       "      <td>1010.400000</td>\n",
       "      <td>1.000000</td>\n",
       "      <td>2.000000</td>\n",
       "      <td>13.800000</td>\n",
       "      <td>18.000000</td>\n",
       "    </tr>\n",
       "    <tr>\n",
       "      <th>50%</th>\n",
       "      <td>13.300000</td>\n",
       "      <td>23.300000</td>\n",
       "      <td>0.000000</td>\n",
       "      <td>4.600000</td>\n",
       "      <td>8.700000</td>\n",
       "      <td>39.000000</td>\n",
       "      <td>13.000000</td>\n",
       "      <td>19.000000</td>\n",
       "      <td>68.000000</td>\n",
       "      <td>51.000000</td>\n",
       "      <td>1017.700000</td>\n",
       "      <td>1015.300000</td>\n",
       "      <td>5.000000</td>\n",
       "      <td>5.000000</td>\n",
       "      <td>17.800000</td>\n",
       "      <td>21.900000</td>\n",
       "    </tr>\n",
       "    <tr>\n",
       "      <th>75%</th>\n",
       "      <td>17.400000</td>\n",
       "      <td>28.000000</td>\n",
       "      <td>1.000000</td>\n",
       "      <td>7.000000</td>\n",
       "      <td>10.700000</td>\n",
       "      <td>50.000000</td>\n",
       "      <td>20.000000</td>\n",
       "      <td>24.000000</td>\n",
       "      <td>80.000000</td>\n",
       "      <td>63.000000</td>\n",
       "      <td>1022.300000</td>\n",
       "      <td>1019.800000</td>\n",
       "      <td>7.000000</td>\n",
       "      <td>7.000000</td>\n",
       "      <td>21.900000</td>\n",
       "      <td>26.400000</td>\n",
       "    </tr>\n",
       "    <tr>\n",
       "      <th>max</th>\n",
       "      <td>28.500000</td>\n",
       "      <td>45.500000</td>\n",
       "      <td>371.000000</td>\n",
       "      <td>145.000000</td>\n",
       "      <td>13.900000</td>\n",
       "      <td>107.000000</td>\n",
       "      <td>63.000000</td>\n",
       "      <td>83.000000</td>\n",
       "      <td>100.000000</td>\n",
       "      <td>99.000000</td>\n",
       "      <td>1039.000000</td>\n",
       "      <td>1036.000000</td>\n",
       "      <td>8.000000</td>\n",
       "      <td>8.000000</td>\n",
       "      <td>39.400000</td>\n",
       "      <td>44.100000</td>\n",
       "    </tr>\n",
       "  </tbody>\n",
       "</table>\n",
       "</div>"
      ],
      "text/plain": [
       "           MinTemp      MaxTemp     Rainfall  Evaporation     Sunshine  \\\n",
       "count  8350.000000  8365.000000  8185.000000  4913.000000  4431.000000   \n",
       "mean     13.193305    23.859976     2.805913     5.389395     7.632205   \n",
       "std       5.403596     6.136408    10.459379     5.044484     3.896235   \n",
       "min      -2.000000     8.200000     0.000000     0.000000     0.000000   \n",
       "25%       9.200000    19.300000     0.000000     2.600000     4.750000   \n",
       "50%      13.300000    23.300000     0.000000     4.600000     8.700000   \n",
       "75%      17.400000    28.000000     1.000000     7.000000    10.700000   \n",
       "max      28.500000    45.500000   371.000000   145.000000    13.900000   \n",
       "\n",
       "       WindGustSpeed  WindSpeed9am  WindSpeed3pm  Humidity9am  Humidity3pm  \\\n",
       "count    7434.000000   8349.000000   8318.000000  8366.000000  8323.000000   \n",
       "mean       40.174469     13.847646     18.533662    67.822496    51.249790   \n",
       "std        14.665721     10.174579      9.766986    16.833283    18.423774   \n",
       "min         7.000000      0.000000      0.000000    10.000000     6.000000   \n",
       "25%        30.000000      6.000000     11.000000    56.000000    39.000000   \n",
       "50%        39.000000     13.000000     19.000000    68.000000    51.000000   \n",
       "75%        50.000000     20.000000     24.000000    80.000000    63.000000   \n",
       "max       107.000000     63.000000     83.000000   100.000000    99.000000   \n",
       "\n",
       "       Pressure9am  Pressure3pm     Cloud9am     Cloud3pm      Temp9am  \\\n",
       "count  7116.000000  7113.000000  6004.000000  5970.000000  8369.000000   \n",
       "mean   1017.640233  1015.236075     4.566622     4.503183    17.762015   \n",
       "std       6.828699     6.766681     2.877658     2.731659     5.627035   \n",
       "min     989.800000   982.900000     0.000000     0.000000     1.900000   \n",
       "25%    1013.000000  1010.400000     1.000000     2.000000    13.800000   \n",
       "50%    1017.700000  1015.300000     5.000000     5.000000    17.800000   \n",
       "75%    1022.300000  1019.800000     7.000000     7.000000    21.900000   \n",
       "max    1039.000000  1036.000000     8.000000     8.000000    39.400000   \n",
       "\n",
       "           Temp3pm  \n",
       "count  8329.000000  \n",
       "mean     22.442934  \n",
       "std       5.980020  \n",
       "min       7.300000  \n",
       "25%      18.000000  \n",
       "50%      21.900000  \n",
       "75%      26.400000  \n",
       "max      44.100000  "
      ]
     },
     "execution_count": 36,
     "metadata": {},
     "output_type": "execute_result"
    }
   ],
   "source": [
    "WF_data.describe() # print summary of data"
   ]
  },
  {
   "cell_type": "code",
   "execution_count": 37,
   "id": "d862b5d8",
   "metadata": {},
   "outputs": [
    {
     "data": {
      "text/plain": [
       "<AxesSubplot:>"
      ]
     },
     "execution_count": 37,
     "metadata": {},
     "output_type": "execute_result"
    },
    {
     "data": {
      "image/png": "[encoded data removed]",
      "text/plain": [
       "<Figure size 720x720 with 2 Axes>"
      ]
     },
     "metadata": {
      "needs_background": "light"
     },
     "output_type": "display_data"
    }
   ],
   "source": [
    "### check relationship with output variable\n",
    "plt.figure(figsize=(10,10))\n",
    "sns.heatmap(WF_data[num_features].corr().abs(),annot=True)"
   ]
  },
  {
   "cell_type": "code",
   "execution_count": 38,
   "id": "c1cb2cb2",
   "metadata": {},
   "outputs": [
    {
     "data": {
      "image/png": "[encoded data removed]",
      "text/plain": [
       "<Figure size 432x288 with 1 Axes>"
      ]
     },
     "metadata": {
      "needs_background": "light"
     },
     "output_type": "display_data"
    },
    {
     "data": {
      "image/png": "[encoded data removed]",
      "text/plain": [
       "<Figure size 432x288 with 1 Axes>"
      ]
     },
     "metadata": {
      "needs_background": "light"
     },
     "output_type": "display_data"
    },
    {
     "data": {
      "image/png": "[encoded data removed]",
      "text/plain": [
       "<Figure size 432x288 with 1 Axes>"
      ]
     },
     "metadata": {
      "needs_background": "light"
     },
     "output_type": "display_data"
    },
    {
     "data": {
      "image/png": "[encoded data removed]",
      "text/plain": [
       "<Figure size 432x288 with 1 Axes>"
      ]
     },
     "metadata": {
      "needs_background": "light"
     },
     "output_type": "display_data"
    },
    {
     "data": {
      "image/png": "[encoded data removed]",
      "text/plain": [
       "<Figure size 432x288 with 1 Axes>"
      ]
     },
     "metadata": {
      "needs_background": "light"
     },
     "output_type": "display_data"
    },
    {
     "data": {
      "image/png": "[encoded data removed]",
      "text/plain": [
       "<Figure size 432x288 with 1 Axes>"
      ]
     },
     "metadata": {
      "needs_background": "light"
     },
     "output_type": "display_data"
    },
    {
     "data": {
      "image/png": "[encoded data removed]",
      "text/plain": [
       "<Figure size 432x288 with 1 Axes>"
      ]
     },
     "metadata": {
      "needs_background": "light"
     },
     "output_type": "display_data"
    },
    {
     "data": {
      "image/png": "[encoded data removed]",
      "text/plain": [
       "<Figure size 432x288 with 1 Axes>"
      ]
     },
     "metadata": {
      "needs_background": "light"
     },
     "output_type": "display_data"
    },
    {
     "data": {
      "image/png": "[encoded data removed]",
      "text/plain": [
       "<Figure size 432x288 with 1 Axes>"
      ]
     },
     "metadata": {
      "needs_background": "light"
     },
     "output_type": "display_data"
    },
    {
     "data": {
      "image/png": "[encoded data removed]",
      "text/plain": [
       "<Figure size 432x288 with 1 Axes>"
      ]
     },
     "metadata": {
      "needs_background": "light"
     },
     "output_type": "display_data"
    },
    {
     "data": {
      "image/png": "[encoded data removed]",
      "text/plain": [
       "<Figure size 432x288 with 1 Axes>"
      ]
     },
     "metadata": {
      "needs_background": "light"
     },
     "output_type": "display_data"
    },
    {
     "data": {
      "image/png": "[encoded data removed]",
      "text/plain": [
       "<Figure size 432x288 with 1 Axes>"
      ]
     },
     "metadata": {
      "needs_background": "light"
     },
     "output_type": "display_data"
    },
    {
     "data": {
      "image/png": "[encoded data removed]",
      "text/plain": [
       "<Figure size 432x288 with 1 Axes>"
      ]
     },
     "metadata": {
      "needs_background": "light"
     },
     "output_type": "display_data"
    },
    {
     "data": {
      "image/png": "[encoded data removed]",
      "text/plain": [
       "<Figure size 432x288 with 1 Axes>"
      ]
     },
     "metadata": {
      "needs_background": "light"
     },
     "output_type": "display_data"
    },
    {
     "data": {
      "image/png": "[encoded data removed]",
      "text/plain": [
       "<Figure size 432x288 with 1 Axes>"
      ]
     },
     "metadata": {
      "needs_background": "light"
     },
     "output_type": "display_data"
    },
    {
     "data": {
      "image/png": "[encoded data removed]",
      "text/plain": [
       "<Figure size 432x288 with 1 Axes>"
      ]
     },
     "metadata": {
      "needs_background": "light"
     },
     "output_type": "display_data"
    }
   ],
   "source": [
    "### Histogram for continous features\n",
    "for col in num_features:\n",
    "    sns.boxplot(WF_data[col])\n",
    "    plt.title(col)\n",
    "    plt.show()"
   ]
  },
  {
   "cell_type": "code",
   "execution_count": 39,
   "id": "190eeb4b",
   "metadata": {},
   "outputs": [
    {
     "data": {
      "image/png": "[encoded data removed]",
      "text/plain": [
       "<Figure size 432x288 with 1 Axes>"
      ]
     },
     "metadata": {
      "needs_background": "light"
     },
     "output_type": "display_data"
    }
   ],
   "source": [
    "### value counts for target variable\n",
    "WF_data['RainTomorrow'].value_counts().plot.bar()\n",
    "plt.title('RainTomorrow')\n",
    "plt.show()"
   ]
  },
  {
   "cell_type": "code",
   "execution_count": 40,
   "id": "c3ac9d1b",
   "metadata": {},
   "outputs": [
    {
     "data": {
      "image/png": "[encoded data removed]",
      "text/plain": [
       "<Figure size 360x360 with 1 Axes>"
      ]
     },
     "metadata": {
      "needs_background": "light"
     },
     "output_type": "display_data"
    },
    {
     "data": {
      "image/png": "[encoded data removed]",
      "text/plain": [
       "<Figure size 360x360 with 1 Axes>"
      ]
     },
     "metadata": {
      "needs_background": "light"
     },
     "output_type": "display_data"
    },
    {
     "data": {
      "image/png": "[encoded data removed]",
      "text/plain": [
       "<Figure size 360x360 with 1 Axes>"
      ]
     },
     "metadata": {
      "needs_background": "light"
     },
     "output_type": "display_data"
    },
    {
     "data": {
      "image/png": "[encoded data removed]",
      "text/plain": [
       "<Figure size 360x360 with 1 Axes>"
      ]
     },
     "metadata": {
      "needs_background": "light"
     },
     "output_type": "display_data"
    },
    {
     "data": {
      "image/png": "[encoded data removed]",
      "text/plain": [
       "<Figure size 360x360 with 1 Axes>"
      ]
     },
     "metadata": {
      "needs_background": "light"
     },
     "output_type": "display_data"
    },
    {
     "data": {
      "image/png": "[encoded data removed]",
      "text/plain": [
       "<Figure size 360x360 with 1 Axes>"
      ]
     },
     "metadata": {
      "needs_background": "light"
     },
     "output_type": "display_data"
    },
    {
     "data": {
      "image/png": "[encoded data removed]",
      "text/plain": [
       "<Figure size 360x360 with 1 Axes>"
      ]
     },
     "metadata": {
      "needs_background": "light"
     },
     "output_type": "display_data"
    },
    {
     "data": {
      "image/png": "[encoded data removed]",
      "text/plain": [
       "<Figure size 360x360 with 1 Axes>"
      ]
     },
     "metadata": {
      "needs_background": "light"
     },
     "output_type": "display_data"
    },
    {
     "data": {
      "image/png": "[encoded data removed]",
      "text/plain": [
       "<Figure size 360x360 with 1 Axes>"
      ]
     },
     "metadata": {
      "needs_background": "light"
     },
     "output_type": "display_data"
    },
    {
     "data": {
      "image/png": "[encoded data removed]",
      "text/plain": [
       "<Figure size 360x360 with 1 Axes>"
      ]
     },
     "metadata": {
      "needs_background": "light"
     },
     "output_type": "display_data"
    },
    {
     "data": {
      "image/png": "[encoded data removed]",
      "text/plain": [
       "<Figure size 360x360 with 1 Axes>"
      ]
     },
     "metadata": {
      "needs_background": "light"
     },
     "output_type": "display_data"
    },
    {
     "data": {
      "image/png": "[encoded data removed]",
      "text/plain": [
       "<Figure size 360x360 with 1 Axes>"
      ]
     },
     "metadata": {
      "needs_background": "light"
     },
     "output_type": "display_data"
    },
    {
     "data": {
      "image/png": "[encoded data removed]",
      "text/plain": [
       "<Figure size 360x360 with 1 Axes>"
      ]
     },
     "metadata": {
      "needs_background": "light"
     },
     "output_type": "display_data"
    },
    {
     "data": {
      "image/png": "[encoded data removed]",
      "text/plain": [
       "<Figure size 360x360 with 1 Axes>"
      ]
     },
     "metadata": {
      "needs_background": "light"
     },
     "output_type": "display_data"
    },
    {
     "data": {
      "image/png": "[encoded data removed]",
      "text/plain": [
       "<Figure size 360x360 with 1 Axes>"
      ]
     },
     "metadata": {
      "needs_background": "light"
     },
     "output_type": "display_data"
    },
    {
     "data": {
      "image/png": "[encoded data removed]",
      "text/plain": [
       "<Figure size 360x360 with 1 Axes>"
      ]
     },
     "metadata": {
      "needs_background": "light"
     },
     "output_type": "display_data"
    }
   ],
   "source": [
    "positive_class=WF_data[WF_data['RainTomorrow']=='Yes']\n",
    "negative_class=WF_data[WF_data['RainTomorrow']=='No']\n",
    "for col in num_features:\n",
    "    plt.figure(figsize=(5,5))\n",
    "    positive_class[col].hist(bins=50,alpha=0.7)\n",
    "    negative_class[col].hist(bins=50,alpha=0.7)\n",
    "    plt.title(col)\n",
    "    plt.legend(['pos','neg'],loc='best')\n",
    "    plt.show()"
   ]
  },
  {
   "cell_type": "code",
   "execution_count": 41,
   "id": "d43e6b0d",
   "metadata": {},
   "outputs": [
    {
     "name": "stdout",
     "output_type": "stream",
     "text": [
      "{'Temp3pm', 'Pressure3pm', 'Temp9am'}\n"
     ]
    }
   ],
   "source": [
    "### now check multicolinearity \n",
    "def correlation (WF_data,threshold):\n",
    "    col_corr=set() # names of correlated columns\n",
    "    corr_matrix=WF_data.corr()\n",
    "    for i in range(len(corr_matrix.columns)):\n",
    "        for j in range(i):\n",
    "            if abs(corr_matrix.iloc[i,j]) > threshold:\n",
    "                colname=corr_matrix.columns[i]\n",
    "                col_corr.add(colname)\n",
    "    \n",
    "    return col_corr\n",
    "\n",
    "print(correlation(WF_data[num_features],0.8))"
   ]
  },
  {
   "cell_type": "code",
   "execution_count": 42,
   "id": "0c26bd01",
   "metadata": {},
   "outputs": [
    {
     "data": {
      "text/html": [
       "<div>\n",
       "<style scoped>\n",
       "    .dataframe tbody tr th:only-of-type {\n",
       "        vertical-align: middle;\n",
       "    }\n",
       "\n",
       "    .dataframe tbody tr th {\n",
       "        vertical-align: top;\n",
       "    }\n",
       "\n",
       "    .dataframe thead th {\n",
       "        text-align: right;\n",
       "    }\n",
       "</style>\n",
       "<table border=\"1\" class=\"dataframe\">\n",
       "  <thead>\n",
       "    <tr style=\"text-align: right;\">\n",
       "      <th></th>\n",
       "      <th>Date</th>\n",
       "      <th>Location</th>\n",
       "      <th>MinTemp</th>\n",
       "      <th>MaxTemp</th>\n",
       "      <th>Rainfall</th>\n",
       "      <th>Evaporation</th>\n",
       "      <th>Sunshine</th>\n",
       "      <th>WindGustDir</th>\n",
       "      <th>WindGustSpeed</th>\n",
       "      <th>WindDir9am</th>\n",
       "      <th>WindDir3pm</th>\n",
       "      <th>WindSpeed9am</th>\n",
       "      <th>WindSpeed3pm</th>\n",
       "      <th>Humidity9am</th>\n",
       "      <th>Humidity3pm</th>\n",
       "      <th>Pressure9am</th>\n",
       "      <th>Cloud9am</th>\n",
       "      <th>Cloud3pm</th>\n",
       "      <th>RainToday</th>\n",
       "      <th>RainTomorrow</th>\n",
       "    </tr>\n",
       "  </thead>\n",
       "  <tbody>\n",
       "    <tr>\n",
       "      <th>0</th>\n",
       "      <td>2008-12-01</td>\n",
       "      <td>Albury</td>\n",
       "      <td>13.4</td>\n",
       "      <td>22.9</td>\n",
       "      <td>0.6</td>\n",
       "      <td>NaN</td>\n",
       "      <td>NaN</td>\n",
       "      <td>W</td>\n",
       "      <td>44.0</td>\n",
       "      <td>W</td>\n",
       "      <td>WNW</td>\n",
       "      <td>20.0</td>\n",
       "      <td>24.0</td>\n",
       "      <td>71.0</td>\n",
       "      <td>22.0</td>\n",
       "      <td>1007.7</td>\n",
       "      <td>8.0</td>\n",
       "      <td>NaN</td>\n",
       "      <td>No</td>\n",
       "      <td>No</td>\n",
       "    </tr>\n",
       "    <tr>\n",
       "      <th>1</th>\n",
       "      <td>2008-12-02</td>\n",
       "      <td>Albury</td>\n",
       "      <td>7.4</td>\n",
       "      <td>25.1</td>\n",
       "      <td>0.0</td>\n",
       "      <td>NaN</td>\n",
       "      <td>NaN</td>\n",
       "      <td>WNW</td>\n",
       "      <td>44.0</td>\n",
       "      <td>NNW</td>\n",
       "      <td>WSW</td>\n",
       "      <td>4.0</td>\n",
       "      <td>22.0</td>\n",
       "      <td>44.0</td>\n",
       "      <td>25.0</td>\n",
       "      <td>1010.6</td>\n",
       "      <td>NaN</td>\n",
       "      <td>NaN</td>\n",
       "      <td>No</td>\n",
       "      <td>No</td>\n",
       "    </tr>\n",
       "    <tr>\n",
       "      <th>2</th>\n",
       "      <td>2008-12-03</td>\n",
       "      <td>Albury</td>\n",
       "      <td>12.9</td>\n",
       "      <td>25.7</td>\n",
       "      <td>0.0</td>\n",
       "      <td>NaN</td>\n",
       "      <td>NaN</td>\n",
       "      <td>WSW</td>\n",
       "      <td>46.0</td>\n",
       "      <td>W</td>\n",
       "      <td>WSW</td>\n",
       "      <td>19.0</td>\n",
       "      <td>26.0</td>\n",
       "      <td>38.0</td>\n",
       "      <td>30.0</td>\n",
       "      <td>1007.6</td>\n",
       "      <td>NaN</td>\n",
       "      <td>2.0</td>\n",
       "      <td>No</td>\n",
       "      <td>No</td>\n",
       "    </tr>\n",
       "    <tr>\n",
       "      <th>3</th>\n",
       "      <td>2008-12-04</td>\n",
       "      <td>Albury</td>\n",
       "      <td>9.2</td>\n",
       "      <td>28.0</td>\n",
       "      <td>0.0</td>\n",
       "      <td>NaN</td>\n",
       "      <td>NaN</td>\n",
       "      <td>NE</td>\n",
       "      <td>24.0</td>\n",
       "      <td>SE</td>\n",
       "      <td>E</td>\n",
       "      <td>11.0</td>\n",
       "      <td>9.0</td>\n",
       "      <td>45.0</td>\n",
       "      <td>16.0</td>\n",
       "      <td>1017.6</td>\n",
       "      <td>NaN</td>\n",
       "      <td>NaN</td>\n",
       "      <td>No</td>\n",
       "      <td>No</td>\n",
       "    </tr>\n",
       "    <tr>\n",
       "      <th>4</th>\n",
       "      <td>2008-12-05</td>\n",
       "      <td>Albury</td>\n",
       "      <td>17.5</td>\n",
       "      <td>32.3</td>\n",
       "      <td>1.0</td>\n",
       "      <td>NaN</td>\n",
       "      <td>NaN</td>\n",
       "      <td>W</td>\n",
       "      <td>41.0</td>\n",
       "      <td>ENE</td>\n",
       "      <td>NW</td>\n",
       "      <td>7.0</td>\n",
       "      <td>20.0</td>\n",
       "      <td>82.0</td>\n",
       "      <td>33.0</td>\n",
       "      <td>1010.8</td>\n",
       "      <td>7.0</td>\n",
       "      <td>8.0</td>\n",
       "      <td>No</td>\n",
       "      <td>No</td>\n",
       "    </tr>\n",
       "  </tbody>\n",
       "</table>\n",
       "</div>"
      ],
      "text/plain": [
       "         Date Location  MinTemp  MaxTemp  Rainfall  Evaporation  Sunshine  \\\n",
       "0  2008-12-01   Albury     13.4     22.9       0.6          NaN       NaN   \n",
       "1  2008-12-02   Albury      7.4     25.1       0.0          NaN       NaN   \n",
       "2  2008-12-03   Albury     12.9     25.7       0.0          NaN       NaN   \n",
       "3  2008-12-04   Albury      9.2     28.0       0.0          NaN       NaN   \n",
       "4  2008-12-05   Albury     17.5     32.3       1.0          NaN       NaN   \n",
       "\n",
       "  WindGustDir  WindGustSpeed WindDir9am WindDir3pm  WindSpeed9am  \\\n",
       "0           W           44.0          W        WNW          20.0   \n",
       "1         WNW           44.0        NNW        WSW           4.0   \n",
       "2         WSW           46.0          W        WSW          19.0   \n",
       "3          NE           24.0         SE          E          11.0   \n",
       "4           W           41.0        ENE         NW           7.0   \n",
       "\n",
       "   WindSpeed3pm  Humidity9am  Humidity3pm  Pressure9am  Cloud9am  Cloud3pm  \\\n",
       "0          24.0         71.0         22.0       1007.7       8.0       NaN   \n",
       "1          22.0         44.0         25.0       1010.6       NaN       NaN   \n",
       "2          26.0         38.0         30.0       1007.6       NaN       2.0   \n",
       "3           9.0         45.0         16.0       1017.6       NaN       NaN   \n",
       "4          20.0         82.0         33.0       1010.8       7.0       8.0   \n",
       "\n",
       "  RainToday RainTomorrow  \n",
       "0        No           No  \n",
       "1        No           No  \n",
       "2        No           No  \n",
       "3        No           No  \n",
       "4        No           No  "
      ]
     },
     "execution_count": 42,
     "metadata": {},
     "output_type": "execute_result"
    }
   ],
   "source": [
    "### we will drop highest correlation features\n",
    "df=WF_data.drop(['Temp9am', 'Pressure3pm', 'Temp3pm'],axis=1)\n",
    "df.head()"
   ]
  },
  {
   "cell_type": "code",
   "execution_count": 43,
   "id": "84d7e75d",
   "metadata": {},
   "outputs": [
    {
     "name": "stdout",
     "output_type": "stream",
     "text": [
      "Date: 3004\n",
      "Location: 12\n",
      "WindGustDir: 17\n",
      "WindDir9am: 17\n",
      "WindDir3pm: 17\n",
      "RainToday: 3\n",
      "RainTomorrow: 3\n"
     ]
    }
   ],
   "source": [
    "### categorical features\n",
    "for col in cat_features:\n",
    "    print(col+\":\",len(WF_data[col].unique()))"
   ]
  },
  {
   "cell_type": "code",
   "execution_count": 44,
   "id": "6774ec86",
   "metadata": {},
   "outputs": [
    {
     "data": {
      "text/html": [
       "<div>\n",
       "<style scoped>\n",
       "    .dataframe tbody tr th:only-of-type {\n",
       "        vertical-align: middle;\n",
       "    }\n",
       "\n",
       "    .dataframe tbody tr th {\n",
       "        vertical-align: top;\n",
       "    }\n",
       "\n",
       "    .dataframe thead th {\n",
       "        text-align: right;\n",
       "    }\n",
       "</style>\n",
       "<table border=\"1\" class=\"dataframe\">\n",
       "  <thead>\n",
       "    <tr style=\"text-align: right;\">\n",
       "      <th></th>\n",
       "      <th>Location</th>\n",
       "      <th>MinTemp</th>\n",
       "      <th>MaxTemp</th>\n",
       "      <th>Rainfall</th>\n",
       "      <th>Evaporation</th>\n",
       "      <th>Sunshine</th>\n",
       "      <th>WindGustDir</th>\n",
       "      <th>WindGustSpeed</th>\n",
       "      <th>WindDir9am</th>\n",
       "      <th>WindDir3pm</th>\n",
       "      <th>...</th>\n",
       "      <th>Pressure3pm</th>\n",
       "      <th>Cloud9am</th>\n",
       "      <th>Cloud3pm</th>\n",
       "      <th>Temp9am</th>\n",
       "      <th>Temp3pm</th>\n",
       "      <th>RainToday</th>\n",
       "      <th>RainTomorrow</th>\n",
       "      <th>year</th>\n",
       "      <th>month</th>\n",
       "      <th>Days</th>\n",
       "    </tr>\n",
       "  </thead>\n",
       "  <tbody>\n",
       "    <tr>\n",
       "      <th>0</th>\n",
       "      <td>Albury</td>\n",
       "      <td>13.4</td>\n",
       "      <td>22.9</td>\n",
       "      <td>0.6</td>\n",
       "      <td>NaN</td>\n",
       "      <td>NaN</td>\n",
       "      <td>W</td>\n",
       "      <td>44.0</td>\n",
       "      <td>W</td>\n",
       "      <td>WNW</td>\n",
       "      <td>...</td>\n",
       "      <td>1007.1</td>\n",
       "      <td>8.0</td>\n",
       "      <td>NaN</td>\n",
       "      <td>16.9</td>\n",
       "      <td>21.8</td>\n",
       "      <td>No</td>\n",
       "      <td>No</td>\n",
       "      <td>2008</td>\n",
       "      <td>12</td>\n",
       "      <td>1</td>\n",
       "    </tr>\n",
       "    <tr>\n",
       "      <th>1</th>\n",
       "      <td>Albury</td>\n",
       "      <td>7.4</td>\n",
       "      <td>25.1</td>\n",
       "      <td>0.0</td>\n",
       "      <td>NaN</td>\n",
       "      <td>NaN</td>\n",
       "      <td>WNW</td>\n",
       "      <td>44.0</td>\n",
       "      <td>NNW</td>\n",
       "      <td>WSW</td>\n",
       "      <td>...</td>\n",
       "      <td>1007.8</td>\n",
       "      <td>NaN</td>\n",
       "      <td>NaN</td>\n",
       "      <td>17.2</td>\n",
       "      <td>24.3</td>\n",
       "      <td>No</td>\n",
       "      <td>No</td>\n",
       "      <td>2008</td>\n",
       "      <td>12</td>\n",
       "      <td>2</td>\n",
       "    </tr>\n",
       "    <tr>\n",
       "      <th>2</th>\n",
       "      <td>Albury</td>\n",
       "      <td>12.9</td>\n",
       "      <td>25.7</td>\n",
       "      <td>0.0</td>\n",
       "      <td>NaN</td>\n",
       "      <td>NaN</td>\n",
       "      <td>WSW</td>\n",
       "      <td>46.0</td>\n",
       "      <td>W</td>\n",
       "      <td>WSW</td>\n",
       "      <td>...</td>\n",
       "      <td>1008.7</td>\n",
       "      <td>NaN</td>\n",
       "      <td>2.0</td>\n",
       "      <td>21.0</td>\n",
       "      <td>23.2</td>\n",
       "      <td>No</td>\n",
       "      <td>No</td>\n",
       "      <td>2008</td>\n",
       "      <td>12</td>\n",
       "      <td>3</td>\n",
       "    </tr>\n",
       "    <tr>\n",
       "      <th>3</th>\n",
       "      <td>Albury</td>\n",
       "      <td>9.2</td>\n",
       "      <td>28.0</td>\n",
       "      <td>0.0</td>\n",
       "      <td>NaN</td>\n",
       "      <td>NaN</td>\n",
       "      <td>NE</td>\n",
       "      <td>24.0</td>\n",
       "      <td>SE</td>\n",
       "      <td>E</td>\n",
       "      <td>...</td>\n",
       "      <td>1012.8</td>\n",
       "      <td>NaN</td>\n",
       "      <td>NaN</td>\n",
       "      <td>18.1</td>\n",
       "      <td>26.5</td>\n",
       "      <td>No</td>\n",
       "      <td>No</td>\n",
       "      <td>2008</td>\n",
       "      <td>12</td>\n",
       "      <td>4</td>\n",
       "    </tr>\n",
       "    <tr>\n",
       "      <th>4</th>\n",
       "      <td>Albury</td>\n",
       "      <td>17.5</td>\n",
       "      <td>32.3</td>\n",
       "      <td>1.0</td>\n",
       "      <td>NaN</td>\n",
       "      <td>NaN</td>\n",
       "      <td>W</td>\n",
       "      <td>41.0</td>\n",
       "      <td>ENE</td>\n",
       "      <td>NW</td>\n",
       "      <td>...</td>\n",
       "      <td>1006.0</td>\n",
       "      <td>7.0</td>\n",
       "      <td>8.0</td>\n",
       "      <td>17.8</td>\n",
       "      <td>29.7</td>\n",
       "      <td>No</td>\n",
       "      <td>No</td>\n",
       "      <td>2008</td>\n",
       "      <td>12</td>\n",
       "      <td>5</td>\n",
       "    </tr>\n",
       "  </tbody>\n",
       "</table>\n",
       "<p>5 rows × 25 columns</p>\n",
       "</div>"
      ],
      "text/plain": [
       "  Location  MinTemp  MaxTemp  Rainfall  Evaporation  Sunshine WindGustDir  \\\n",
       "0   Albury     13.4     22.9       0.6          NaN       NaN           W   \n",
       "1   Albury      7.4     25.1       0.0          NaN       NaN         WNW   \n",
       "2   Albury     12.9     25.7       0.0          NaN       NaN         WSW   \n",
       "3   Albury      9.2     28.0       0.0          NaN       NaN          NE   \n",
       "4   Albury     17.5     32.3       1.0          NaN       NaN           W   \n",
       "\n",
       "   WindGustSpeed WindDir9am WindDir3pm  ...  Pressure3pm  Cloud9am  Cloud3pm  \\\n",
       "0           44.0          W        WNW  ...       1007.1       8.0       NaN   \n",
       "1           44.0        NNW        WSW  ...       1007.8       NaN       NaN   \n",
       "2           46.0          W        WSW  ...       1008.7       NaN       2.0   \n",
       "3           24.0         SE          E  ...       1012.8       NaN       NaN   \n",
       "4           41.0        ENE         NW  ...       1006.0       7.0       8.0   \n",
       "\n",
       "   Temp9am  Temp3pm  RainToday  RainTomorrow  year  month  Days  \n",
       "0     16.9     21.8         No            No  2008     12     1  \n",
       "1     17.2     24.3         No            No  2008     12     2  \n",
       "2     21.0     23.2         No            No  2008     12     3  \n",
       "3     18.1     26.5         No            No  2008     12     4  \n",
       "4     17.8     29.7         No            No  2008     12     5  \n",
       "\n",
       "[5 rows x 25 columns]"
      ]
     },
     "execution_count": 44,
     "metadata": {},
     "output_type": "execute_result"
    }
   ],
   "source": [
    "### date variable\n",
    "WF_data['Date']=pd.to_datetime(WF_data['Date'])\n",
    "WF_data['year']=WF_data['Date'].dt.year\n",
    "WF_data['month']=WF_data['Date'].dt.month\n",
    "WF_data['Days']=WF_data['Date'].dt.day\n",
    "WF_data=WF_data.drop('Date',axis=1)\n",
    "WF_data.head()"
   ]
  },
  {
   "cell_type": "code",
   "execution_count": 45,
   "id": "7fc7a376",
   "metadata": {},
   "outputs": [
    {
     "name": "stdout",
     "output_type": "stream",
     "text": [
      "features contain nan_values:['MinTemp', 'MaxTemp', 'Rainfall', 'Evaporation', 'Sunshine', 'WindGustDir', 'WindGustSpeed', 'WindDir9am', 'WindDir3pm', 'WindSpeed9am', 'WindSpeed3pm', 'Humidity9am', 'Humidity3pm', 'Pressure9am', 'Pressure3pm', 'Cloud9am', 'Cloud3pm', 'Temp9am', 'Temp3pm', 'RainToday', 'RainTomorrow']\n"
     ]
    }
   ],
   "source": [
    "nan_features=[col for col in WF_data.columns if WF_data[col].isnull().any()]\n",
    "print(\"features contain nan_values:{}\".format(nan_features))"
   ]
  },
  {
   "cell_type": "code",
   "execution_count": 46,
   "id": "a7c03086",
   "metadata": {},
   "outputs": [
    {
     "name": "stdout",
     "output_type": "stream",
     "text": [
      "MinTemp          0\n",
      "MaxTemp          0\n",
      "Rainfall         0\n",
      "Evaporation      0\n",
      "Sunshine         0\n",
      "WindGustSpeed    0\n",
      "WindSpeed9am     0\n",
      "WindSpeed3pm     0\n",
      "Humidity9am      0\n",
      "Humidity3pm      0\n",
      "Pressure9am      0\n",
      "Pressure3pm      0\n",
      "Cloud9am         0\n",
      "Cloud3pm         0\n",
      "Temp9am          0\n",
      "Temp3pm          0\n",
      "dtype: int64\n"
     ]
    }
   ],
   "source": [
    "num_imputed=[col for col in nan_features if WF_data[col].dtypes !='O']\n",
    "### imputation numerical features\n",
    "def imputation_numerical (num_imputed):\n",
    "    from sklearn.impute import SimpleImputer\n",
    "    imputer=SimpleImputer(strategy='mean')\n",
    "    WF_data[num_imputed]=imputer.fit_transform(WF_data[num_imputed])\n",
    "    return WF_data[num_imputed]\n",
    "\n",
    "WF_data[num_imputed]=imputation_numerical(num_imputed)\n",
    "print(WF_data[num_imputed].isnull().sum()) ### check nan values"
   ]
  },
  {
   "cell_type": "code",
   "execution_count": 47,
   "id": "1c0eb3c8",
   "metadata": {},
   "outputs": [
    {
     "name": "stdout",
     "output_type": "stream",
     "text": [
      "WindGustDir     0\n",
      "WindDir9am      0\n",
      "WindDir3pm      0\n",
      "RainToday       0\n",
      "RainTomorrow    0\n",
      "dtype: int64\n"
     ]
    }
   ],
   "source": [
    "### imputer categorical features\n",
    "cat_imputed=[col for col in nan_features if col not in num_imputed]\n",
    "def imputation_categorical(cat_imputed):\n",
    "    for col in cat_imputed:\n",
    "        WF_data[col]=WF_data[col].fillna(WF_data[col].mode().iloc[0])\n",
    "    return WF_data[cat_imputed]\n",
    "\n",
    "WF_data[cat_imputed]=imputation_categorical(cat_imputed)\n",
    "print(WF_data[cat_imputed].isnull().sum())  ### check nan_values"
   ]
  },
  {
   "cell_type": "code",
   "execution_count": 50,
   "id": "dad04ad5",
   "metadata": {},
   "outputs": [],
   "source": [
    "### encoding categorical features\n",
    "num_features=[col for col in WF_data.columns if WF_data[col].dtypes !='O']\n",
    "cat_features=[col for col in WF_data.columns if col not in num_features]\n",
    "for col in cat_features:\n",
    "    label_list=list(WF_data[col].unique())\n",
    "    label_dict={i:v for v,i in enumerate(label_list,0)}\n",
    "    WF_data[col]=WF_data[col].map(label_dict)"
   ]
  },
  {
   "cell_type": "code",
   "execution_count": 52,
   "id": "db5e975c",
   "metadata": {},
   "outputs": [
    {
     "data": {
      "text/html": [
       "<div>\n",
       "<style scoped>\n",
       "    .dataframe tbody tr th:only-of-type {\n",
       "        vertical-align: middle;\n",
       "    }\n",
       "\n",
       "    .dataframe tbody tr th {\n",
       "        vertical-align: top;\n",
       "    }\n",
       "\n",
       "    .dataframe thead th {\n",
       "        text-align: right;\n",
       "    }\n",
       "</style>\n",
       "<table border=\"1\" class=\"dataframe\">\n",
       "  <thead>\n",
       "    <tr style=\"text-align: right;\">\n",
       "      <th></th>\n",
       "      <th>Location</th>\n",
       "      <th>MinTemp</th>\n",
       "      <th>MaxTemp</th>\n",
       "      <th>Rainfall</th>\n",
       "      <th>Evaporation</th>\n",
       "      <th>Sunshine</th>\n",
       "      <th>WindGustDir</th>\n",
       "      <th>WindGustSpeed</th>\n",
       "      <th>WindDir9am</th>\n",
       "      <th>WindDir3pm</th>\n",
       "      <th>...</th>\n",
       "      <th>Pressure3pm</th>\n",
       "      <th>Cloud9am</th>\n",
       "      <th>Cloud3pm</th>\n",
       "      <th>Temp9am</th>\n",
       "      <th>Temp3pm</th>\n",
       "      <th>RainToday</th>\n",
       "      <th>RainTomorrow</th>\n",
       "      <th>year</th>\n",
       "      <th>month</th>\n",
       "      <th>Days</th>\n",
       "    </tr>\n",
       "  </thead>\n",
       "  <tbody>\n",
       "    <tr>\n",
       "      <th>0</th>\n",
       "      <td>0</td>\n",
       "      <td>13.4</td>\n",
       "      <td>22.9</td>\n",
       "      <td>0.600000</td>\n",
       "      <td>5.389395</td>\n",
       "      <td>7.632205</td>\n",
       "      <td>0</td>\n",
       "      <td>44.000000</td>\n",
       "      <td>0</td>\n",
       "      <td>0</td>\n",
       "      <td>...</td>\n",
       "      <td>1007.1</td>\n",
       "      <td>8.000000</td>\n",
       "      <td>4.503183</td>\n",
       "      <td>16.9</td>\n",
       "      <td>21.8</td>\n",
       "      <td>0</td>\n",
       "      <td>0</td>\n",
       "      <td>2008</td>\n",
       "      <td>12</td>\n",
       "      <td>1</td>\n",
       "    </tr>\n",
       "    <tr>\n",
       "      <th>1</th>\n",
       "      <td>0</td>\n",
       "      <td>7.4</td>\n",
       "      <td>25.1</td>\n",
       "      <td>0.000000</td>\n",
       "      <td>5.389395</td>\n",
       "      <td>7.632205</td>\n",
       "      <td>1</td>\n",
       "      <td>44.000000</td>\n",
       "      <td>1</td>\n",
       "      <td>1</td>\n",
       "      <td>...</td>\n",
       "      <td>1007.8</td>\n",
       "      <td>4.566622</td>\n",
       "      <td>4.503183</td>\n",
       "      <td>17.2</td>\n",
       "      <td>24.3</td>\n",
       "      <td>0</td>\n",
       "      <td>0</td>\n",
       "      <td>2008</td>\n",
       "      <td>12</td>\n",
       "      <td>2</td>\n",
       "    </tr>\n",
       "    <tr>\n",
       "      <th>2</th>\n",
       "      <td>0</td>\n",
       "      <td>12.9</td>\n",
       "      <td>25.7</td>\n",
       "      <td>0.000000</td>\n",
       "      <td>5.389395</td>\n",
       "      <td>7.632205</td>\n",
       "      <td>2</td>\n",
       "      <td>46.000000</td>\n",
       "      <td>0</td>\n",
       "      <td>1</td>\n",
       "      <td>...</td>\n",
       "      <td>1008.7</td>\n",
       "      <td>4.566622</td>\n",
       "      <td>2.000000</td>\n",
       "      <td>21.0</td>\n",
       "      <td>23.2</td>\n",
       "      <td>0</td>\n",
       "      <td>0</td>\n",
       "      <td>2008</td>\n",
       "      <td>12</td>\n",
       "      <td>3</td>\n",
       "    </tr>\n",
       "    <tr>\n",
       "      <th>3</th>\n",
       "      <td>0</td>\n",
       "      <td>9.2</td>\n",
       "      <td>28.0</td>\n",
       "      <td>0.000000</td>\n",
       "      <td>5.389395</td>\n",
       "      <td>7.632205</td>\n",
       "      <td>3</td>\n",
       "      <td>24.000000</td>\n",
       "      <td>2</td>\n",
       "      <td>2</td>\n",
       "      <td>...</td>\n",
       "      <td>1012.8</td>\n",
       "      <td>4.566622</td>\n",
       "      <td>4.503183</td>\n",
       "      <td>18.1</td>\n",
       "      <td>26.5</td>\n",
       "      <td>0</td>\n",
       "      <td>0</td>\n",
       "      <td>2008</td>\n",
       "      <td>12</td>\n",
       "      <td>4</td>\n",
       "    </tr>\n",
       "    <tr>\n",
       "      <th>4</th>\n",
       "      <td>0</td>\n",
       "      <td>17.5</td>\n",
       "      <td>32.3</td>\n",
       "      <td>1.000000</td>\n",
       "      <td>5.389395</td>\n",
       "      <td>7.632205</td>\n",
       "      <td>0</td>\n",
       "      <td>41.000000</td>\n",
       "      <td>3</td>\n",
       "      <td>3</td>\n",
       "      <td>...</td>\n",
       "      <td>1006.0</td>\n",
       "      <td>7.000000</td>\n",
       "      <td>8.000000</td>\n",
       "      <td>17.8</td>\n",
       "      <td>29.7</td>\n",
       "      <td>0</td>\n",
       "      <td>0</td>\n",
       "      <td>2008</td>\n",
       "      <td>12</td>\n",
       "      <td>5</td>\n",
       "    </tr>\n",
       "    <tr>\n",
       "      <th>5</th>\n",
       "      <td>0</td>\n",
       "      <td>14.6</td>\n",
       "      <td>29.7</td>\n",
       "      <td>0.200000</td>\n",
       "      <td>5.389395</td>\n",
       "      <td>7.632205</td>\n",
       "      <td>1</td>\n",
       "      <td>56.000000</td>\n",
       "      <td>0</td>\n",
       "      <td>4</td>\n",
       "      <td>...</td>\n",
       "      <td>1005.4</td>\n",
       "      <td>4.566622</td>\n",
       "      <td>4.503183</td>\n",
       "      <td>20.6</td>\n",
       "      <td>28.9</td>\n",
       "      <td>0</td>\n",
       "      <td>0</td>\n",
       "      <td>2008</td>\n",
       "      <td>12</td>\n",
       "      <td>6</td>\n",
       "    </tr>\n",
       "    <tr>\n",
       "      <th>6</th>\n",
       "      <td>0</td>\n",
       "      <td>14.3</td>\n",
       "      <td>25.0</td>\n",
       "      <td>0.000000</td>\n",
       "      <td>5.389395</td>\n",
       "      <td>7.632205</td>\n",
       "      <td>0</td>\n",
       "      <td>50.000000</td>\n",
       "      <td>4</td>\n",
       "      <td>4</td>\n",
       "      <td>...</td>\n",
       "      <td>1008.2</td>\n",
       "      <td>1.000000</td>\n",
       "      <td>4.503183</td>\n",
       "      <td>18.1</td>\n",
       "      <td>24.6</td>\n",
       "      <td>0</td>\n",
       "      <td>0</td>\n",
       "      <td>2008</td>\n",
       "      <td>12</td>\n",
       "      <td>7</td>\n",
       "    </tr>\n",
       "    <tr>\n",
       "      <th>7</th>\n",
       "      <td>0</td>\n",
       "      <td>7.7</td>\n",
       "      <td>26.7</td>\n",
       "      <td>0.000000</td>\n",
       "      <td>5.389395</td>\n",
       "      <td>7.632205</td>\n",
       "      <td>0</td>\n",
       "      <td>35.000000</td>\n",
       "      <td>5</td>\n",
       "      <td>4</td>\n",
       "      <td>...</td>\n",
       "      <td>1010.1</td>\n",
       "      <td>4.566622</td>\n",
       "      <td>4.503183</td>\n",
       "      <td>16.3</td>\n",
       "      <td>25.5</td>\n",
       "      <td>0</td>\n",
       "      <td>0</td>\n",
       "      <td>2008</td>\n",
       "      <td>12</td>\n",
       "      <td>8</td>\n",
       "    </tr>\n",
       "    <tr>\n",
       "      <th>8</th>\n",
       "      <td>0</td>\n",
       "      <td>9.7</td>\n",
       "      <td>31.9</td>\n",
       "      <td>0.000000</td>\n",
       "      <td>5.389395</td>\n",
       "      <td>7.632205</td>\n",
       "      <td>4</td>\n",
       "      <td>80.000000</td>\n",
       "      <td>2</td>\n",
       "      <td>3</td>\n",
       "      <td>...</td>\n",
       "      <td>1003.6</td>\n",
       "      <td>4.566622</td>\n",
       "      <td>4.503183</td>\n",
       "      <td>18.3</td>\n",
       "      <td>30.2</td>\n",
       "      <td>0</td>\n",
       "      <td>1</td>\n",
       "      <td>2008</td>\n",
       "      <td>12</td>\n",
       "      <td>9</td>\n",
       "    </tr>\n",
       "    <tr>\n",
       "      <th>9</th>\n",
       "      <td>0</td>\n",
       "      <td>13.1</td>\n",
       "      <td>30.1</td>\n",
       "      <td>1.400000</td>\n",
       "      <td>5.389395</td>\n",
       "      <td>7.632205</td>\n",
       "      <td>0</td>\n",
       "      <td>28.000000</td>\n",
       "      <td>6</td>\n",
       "      <td>5</td>\n",
       "      <td>...</td>\n",
       "      <td>1005.7</td>\n",
       "      <td>4.566622</td>\n",
       "      <td>4.503183</td>\n",
       "      <td>20.1</td>\n",
       "      <td>28.2</td>\n",
       "      <td>1</td>\n",
       "      <td>0</td>\n",
       "      <td>2008</td>\n",
       "      <td>12</td>\n",
       "      <td>10</td>\n",
       "    </tr>\n",
       "    <tr>\n",
       "      <th>10</th>\n",
       "      <td>0</td>\n",
       "      <td>13.4</td>\n",
       "      <td>30.4</td>\n",
       "      <td>0.000000</td>\n",
       "      <td>5.389395</td>\n",
       "      <td>7.632205</td>\n",
       "      <td>5</td>\n",
       "      <td>30.000000</td>\n",
       "      <td>5</td>\n",
       "      <td>6</td>\n",
       "      <td>...</td>\n",
       "      <td>1008.7</td>\n",
       "      <td>4.566622</td>\n",
       "      <td>4.503183</td>\n",
       "      <td>20.4</td>\n",
       "      <td>28.8</td>\n",
       "      <td>0</td>\n",
       "      <td>1</td>\n",
       "      <td>2008</td>\n",
       "      <td>12</td>\n",
       "      <td>11</td>\n",
       "    </tr>\n",
       "    <tr>\n",
       "      <th>11</th>\n",
       "      <td>0</td>\n",
       "      <td>15.9</td>\n",
       "      <td>21.7</td>\n",
       "      <td>2.200000</td>\n",
       "      <td>5.389395</td>\n",
       "      <td>7.632205</td>\n",
       "      <td>6</td>\n",
       "      <td>31.000000</td>\n",
       "      <td>7</td>\n",
       "      <td>7</td>\n",
       "      <td>...</td>\n",
       "      <td>1004.2</td>\n",
       "      <td>8.000000</td>\n",
       "      <td>8.000000</td>\n",
       "      <td>15.9</td>\n",
       "      <td>17.0</td>\n",
       "      <td>1</td>\n",
       "      <td>1</td>\n",
       "      <td>2008</td>\n",
       "      <td>12</td>\n",
       "      <td>12</td>\n",
       "    </tr>\n",
       "    <tr>\n",
       "      <th>12</th>\n",
       "      <td>0</td>\n",
       "      <td>15.9</td>\n",
       "      <td>18.6</td>\n",
       "      <td>15.600000</td>\n",
       "      <td>5.389395</td>\n",
       "      <td>7.632205</td>\n",
       "      <td>0</td>\n",
       "      <td>61.000000</td>\n",
       "      <td>1</td>\n",
       "      <td>8</td>\n",
       "      <td>...</td>\n",
       "      <td>993.0</td>\n",
       "      <td>8.000000</td>\n",
       "      <td>8.000000</td>\n",
       "      <td>17.4</td>\n",
       "      <td>15.8</td>\n",
       "      <td>1</td>\n",
       "      <td>1</td>\n",
       "      <td>2008</td>\n",
       "      <td>12</td>\n",
       "      <td>13</td>\n",
       "    </tr>\n",
       "    <tr>\n",
       "      <th>13</th>\n",
       "      <td>0</td>\n",
       "      <td>12.6</td>\n",
       "      <td>21.0</td>\n",
       "      <td>3.600000</td>\n",
       "      <td>5.389395</td>\n",
       "      <td>7.632205</td>\n",
       "      <td>7</td>\n",
       "      <td>44.000000</td>\n",
       "      <td>0</td>\n",
       "      <td>9</td>\n",
       "      <td>...</td>\n",
       "      <td>1001.8</td>\n",
       "      <td>4.566622</td>\n",
       "      <td>7.000000</td>\n",
       "      <td>15.8</td>\n",
       "      <td>19.8</td>\n",
       "      <td>1</td>\n",
       "      <td>0</td>\n",
       "      <td>2008</td>\n",
       "      <td>12</td>\n",
       "      <td>14</td>\n",
       "    </tr>\n",
       "    <tr>\n",
       "      <th>14</th>\n",
       "      <td>0</td>\n",
       "      <td>8.4</td>\n",
       "      <td>24.6</td>\n",
       "      <td>0.000000</td>\n",
       "      <td>5.389395</td>\n",
       "      <td>7.632205</td>\n",
       "      <td>5</td>\n",
       "      <td>40.174469</td>\n",
       "      <td>6</td>\n",
       "      <td>0</td>\n",
       "      <td>...</td>\n",
       "      <td>1008.7</td>\n",
       "      <td>4.566622</td>\n",
       "      <td>4.503183</td>\n",
       "      <td>15.9</td>\n",
       "      <td>23.5</td>\n",
       "      <td>0</td>\n",
       "      <td>0</td>\n",
       "      <td>2008</td>\n",
       "      <td>12</td>\n",
       "      <td>15</td>\n",
       "    </tr>\n",
       "    <tr>\n",
       "      <th>15</th>\n",
       "      <td>0</td>\n",
       "      <td>9.8</td>\n",
       "      <td>27.7</td>\n",
       "      <td>2.805913</td>\n",
       "      <td>5.389395</td>\n",
       "      <td>7.632205</td>\n",
       "      <td>1</td>\n",
       "      <td>50.000000</td>\n",
       "      <td>8</td>\n",
       "      <td>0</td>\n",
       "      <td>...</td>\n",
       "      <td>1010.3</td>\n",
       "      <td>0.000000</td>\n",
       "      <td>4.503183</td>\n",
       "      <td>17.3</td>\n",
       "      <td>26.2</td>\n",
       "      <td>0</td>\n",
       "      <td>0</td>\n",
       "      <td>2008</td>\n",
       "      <td>12</td>\n",
       "      <td>16</td>\n",
       "    </tr>\n",
       "    <tr>\n",
       "      <th>16</th>\n",
       "      <td>0</td>\n",
       "      <td>14.1</td>\n",
       "      <td>20.9</td>\n",
       "      <td>0.000000</td>\n",
       "      <td>5.389395</td>\n",
       "      <td>7.632205</td>\n",
       "      <td>8</td>\n",
       "      <td>22.000000</td>\n",
       "      <td>9</td>\n",
       "      <td>2</td>\n",
       "      <td>...</td>\n",
       "      <td>1010.4</td>\n",
       "      <td>8.000000</td>\n",
       "      <td>1.000000</td>\n",
       "      <td>17.2</td>\n",
       "      <td>18.1</td>\n",
       "      <td>0</td>\n",
       "      <td>1</td>\n",
       "      <td>2008</td>\n",
       "      <td>12</td>\n",
       "      <td>17</td>\n",
       "    </tr>\n",
       "    <tr>\n",
       "      <th>17</th>\n",
       "      <td>0</td>\n",
       "      <td>13.5</td>\n",
       "      <td>22.9</td>\n",
       "      <td>16.800000</td>\n",
       "      <td>5.389395</td>\n",
       "      <td>7.632205</td>\n",
       "      <td>0</td>\n",
       "      <td>63.000000</td>\n",
       "      <td>8</td>\n",
       "      <td>0</td>\n",
       "      <td>...</td>\n",
       "      <td>1002.2</td>\n",
       "      <td>8.000000</td>\n",
       "      <td>1.000000</td>\n",
       "      <td>18.0</td>\n",
       "      <td>21.5</td>\n",
       "      <td>1</td>\n",
       "      <td>1</td>\n",
       "      <td>2008</td>\n",
       "      <td>12</td>\n",
       "      <td>18</td>\n",
       "    </tr>\n",
       "    <tr>\n",
       "      <th>18</th>\n",
       "      <td>0</td>\n",
       "      <td>11.2</td>\n",
       "      <td>22.5</td>\n",
       "      <td>10.600000</td>\n",
       "      <td>5.389395</td>\n",
       "      <td>7.632205</td>\n",
       "      <td>9</td>\n",
       "      <td>43.000000</td>\n",
       "      <td>10</td>\n",
       "      <td>10</td>\n",
       "      <td>...</td>\n",
       "      <td>1009.7</td>\n",
       "      <td>4.566622</td>\n",
       "      <td>2.000000</td>\n",
       "      <td>15.5</td>\n",
       "      <td>21.0</td>\n",
       "      <td>1</td>\n",
       "      <td>0</td>\n",
       "      <td>2008</td>\n",
       "      <td>12</td>\n",
       "      <td>19</td>\n",
       "    </tr>\n",
       "    <tr>\n",
       "      <th>19</th>\n",
       "      <td>0</td>\n",
       "      <td>9.8</td>\n",
       "      <td>25.6</td>\n",
       "      <td>0.000000</td>\n",
       "      <td>5.389395</td>\n",
       "      <td>7.632205</td>\n",
       "      <td>9</td>\n",
       "      <td>26.000000</td>\n",
       "      <td>2</td>\n",
       "      <td>8</td>\n",
       "      <td>...</td>\n",
       "      <td>1017.1</td>\n",
       "      <td>4.566622</td>\n",
       "      <td>4.503183</td>\n",
       "      <td>15.8</td>\n",
       "      <td>23.2</td>\n",
       "      <td>0</td>\n",
       "      <td>0</td>\n",
       "      <td>2008</td>\n",
       "      <td>12</td>\n",
       "      <td>20</td>\n",
       "    </tr>\n",
       "  </tbody>\n",
       "</table>\n",
       "<p>20 rows × 25 columns</p>\n",
       "</div>"
      ],
      "text/plain": [
       "    Location  MinTemp  MaxTemp   Rainfall  Evaporation  Sunshine  WindGustDir  \\\n",
       "0          0     13.4     22.9   0.600000     5.389395  7.632205            0   \n",
       "1          0      7.4     25.1   0.000000     5.389395  7.632205            1   \n",
       "2          0     12.9     25.7   0.000000     5.389395  7.632205            2   \n",
       "3          0      9.2     28.0   0.000000     5.389395  7.632205            3   \n",
       "4          0     17.5     32.3   1.000000     5.389395  7.632205            0   \n",
       "5          0     14.6     29.7   0.200000     5.389395  7.632205            1   \n",
       "6          0     14.3     25.0   0.000000     5.389395  7.632205            0   \n",
       "7          0      7.7     26.7   0.000000     5.389395  7.632205            0   \n",
       "8          0      9.7     31.9   0.000000     5.389395  7.632205            4   \n",
       "9          0     13.1     30.1   1.400000     5.389395  7.632205            0   \n",
       "10         0     13.4     30.4   0.000000     5.389395  7.632205            5   \n",
       "11         0     15.9     21.7   2.200000     5.389395  7.632205            6   \n",
       "12         0     15.9     18.6  15.600000     5.389395  7.632205            0   \n",
       "13         0     12.6     21.0   3.600000     5.389395  7.632205            7   \n",
       "14         0      8.4     24.6   0.000000     5.389395  7.632205            5   \n",
       "15         0      9.8     27.7   2.805913     5.389395  7.632205            1   \n",
       "16         0     14.1     20.9   0.000000     5.389395  7.632205            8   \n",
       "17         0     13.5     22.9  16.800000     5.389395  7.632205            0   \n",
       "18         0     11.2     22.5  10.600000     5.389395  7.632205            9   \n",
       "19         0      9.8     25.6   0.000000     5.389395  7.632205            9   \n",
       "\n",
       "    WindGustSpeed  WindDir9am  WindDir3pm  ...  Pressure3pm  Cloud9am  \\\n",
       "0       44.000000           0           0  ...       1007.1  8.000000   \n",
       "1       44.000000           1           1  ...       1007.8  4.566622   \n",
       "2       46.000000           0           1  ...       1008.7  4.566622   \n",
       "3       24.000000           2           2  ...       1012.8  4.566622   \n",
       "4       41.000000           3           3  ...       1006.0  7.000000   \n",
       "5       56.000000           0           4  ...       1005.4  4.566622   \n",
       "6       50.000000           4           4  ...       1008.2  1.000000   \n",
       "7       35.000000           5           4  ...       1010.1  4.566622   \n",
       "8       80.000000           2           3  ...       1003.6  4.566622   \n",
       "9       28.000000           6           5  ...       1005.7  4.566622   \n",
       "10      30.000000           5           6  ...       1008.7  4.566622   \n",
       "11      31.000000           7           7  ...       1004.2  8.000000   \n",
       "12      61.000000           1           8  ...        993.0  8.000000   \n",
       "13      44.000000           0           9  ...       1001.8  4.566622   \n",
       "14      40.174469           6           0  ...       1008.7  4.566622   \n",
       "15      50.000000           8           0  ...       1010.3  0.000000   \n",
       "16      22.000000           9           2  ...       1010.4  8.000000   \n",
       "17      63.000000           8           0  ...       1002.2  8.000000   \n",
       "18      43.000000          10          10  ...       1009.7  4.566622   \n",
       "19      26.000000           2           8  ...       1017.1  4.566622   \n",
       "\n",
       "    Cloud3pm  Temp9am  Temp3pm  RainToday  RainTomorrow  year  month  Days  \n",
       "0   4.503183     16.9     21.8          0             0  2008     12     1  \n",
       "1   4.503183     17.2     24.3          0             0  2008     12     2  \n",
       "2   2.000000     21.0     23.2          0             0  2008     12     3  \n",
       "3   4.503183     18.1     26.5          0             0  2008     12     4  \n",
       "4   8.000000     17.8     29.7          0             0  2008     12     5  \n",
       "5   4.503183     20.6     28.9          0             0  2008     12     6  \n",
       "6   4.503183     18.1     24.6          0             0  2008     12     7  \n",
       "7   4.503183     16.3     25.5          0             0  2008     12     8  \n",
       "8   4.503183     18.3     30.2          0             1  2008     12     9  \n",
       "9   4.503183     20.1     28.2          1             0  2008     12    10  \n",
       "10  4.503183     20.4     28.8          0             1  2008     12    11  \n",
       "11  8.000000     15.9     17.0          1             1  2008     12    12  \n",
       "12  8.000000     17.4     15.8          1             1  2008     12    13  \n",
       "13  7.000000     15.8     19.8          1             0  2008     12    14  \n",
       "14  4.503183     15.9     23.5          0             0  2008     12    15  \n",
       "15  4.503183     17.3     26.2          0             0  2008     12    16  \n",
       "16  1.000000     17.2     18.1          0             1  2008     12    17  \n",
       "17  1.000000     18.0     21.5          1             1  2008     12    18  \n",
       "18  2.000000     15.5     21.0          1             0  2008     12    19  \n",
       "19  4.503183     15.8     23.2          0             0  2008     12    20  \n",
       "\n",
       "[20 rows x 25 columns]"
      ]
     },
     "execution_count": 52,
     "metadata": {},
     "output_type": "execute_result"
    }
   ],
   "source": [
    "WF_data.head(20)"
   ]
  },
  {
   "cell_type": "code",
   "execution_count": 53,
   "id": "b7d4380c",
   "metadata": {},
   "outputs": [],
   "source": [
    "X=WF_data.drop('RainTomorrow',axis=1)\n",
    "y=WF_data['RainTomorrow']"
   ]
  },
  {
   "cell_type": "code",
   "execution_count": 54,
   "id": "0bcc9b0e",
   "metadata": {},
   "outputs": [],
   "source": [
    "### spliting data set\n",
    "from sklearn.model_selection import train_test_split\n",
    "X_train,X_test,y_train,y_test=train_test_split(X,y,test_size=0.2,random_state=0)"
   ]
  },
  {
   "cell_type": "code",
   "execution_count": 55,
   "id": "207c9208",
   "metadata": {},
   "outputs": [
    {
     "data": {
      "text/plain": [
       "GradientBoostingClassifier()"
      ]
     },
     "execution_count": 55,
     "metadata": {},
     "output_type": "execute_result"
    }
   ],
   "source": [
    "from sklearn.ensemble import GradientBoostingClassifier\n",
    "model=GradientBoostingClassifier()\n",
    "model.fit(X_train,y_train)"
   ]
  },
  {
   "cell_type": "code",
   "execution_count": 56,
   "id": "09206934",
   "metadata": {},
   "outputs": [],
   "source": [
    "y_pred=model.predict(X_test)"
   ]
  },
  {
   "cell_type": "code",
   "execution_count": 57,
   "id": "6cd69e4a",
   "metadata": {},
   "outputs": [
    {
     "name": "stdout",
     "output_type": "stream",
     "text": [
      "accuracy_score:0.85\n"
     ]
    }
   ],
   "source": [
    "### Error metrics\n",
    "from sklearn.metrics import accuracy_score\n",
    "score=accuracy_score(y_test,y_pred)\n",
    "print('accuracy_score:%0.2f'%score)"
   ]
  },
  {
   "cell_type": "code",
   "execution_count": 58,
   "id": "62ffbf27",
   "metadata": {},
   "outputs": [
    {
     "name": "stdout",
     "output_type": "stream",
     "text": [
      "[[1216   70]\n",
      " [ 178  221]]\n"
     ]
    }
   ],
   "source": [
    "### confusion matrix\n",
    "from sklearn.metrics import confusion_matrix\n",
    "cm=confusion_matrix(y_test,y_pred)\n",
    "print(cm)"
   ]
  },
  {
   "cell_type": "code",
   "execution_count": 59,
   "id": "6ed55f78",
   "metadata": {},
   "outputs": [
    {
     "name": "stdout",
     "output_type": "stream",
     "text": [
      "              precision    recall  f1-score   support\n",
      "\n",
      "           0       0.87      0.95      0.91      1286\n",
      "           1       0.76      0.55      0.64       399\n",
      "\n",
      "    accuracy                           0.85      1685\n",
      "   macro avg       0.82      0.75      0.77      1685\n",
      "weighted avg       0.85      0.85      0.84      1685\n",
      "\n"
     ]
    }
   ],
   "source": [
    "### classification report\n",
    "from sklearn.metrics import classification_report\n",
    "cr=classification_report(y_test,y_pred)\n",
    "print(cr)"
   ]
  },
  {
   "cell_type": "code",
   "execution_count": 60,
   "id": "1c09a439",
   "metadata": {},
   "outputs": [
    {
     "data": {
      "image/png": "[encoded data removed]",
      "text/plain": [
       "<Figure size 432x288 with 1 Axes>"
      ]
     },
     "metadata": {
      "needs_background": "light"
     },
     "output_type": "display_data"
    }
   ],
   "source": [
    "def plot_feature_importances_cancer(model):\n",
    "    n_features = X_train.shape[1]\n",
    "    plt.barh(range(n_features), model.feature_importances_, align='center')\n",
    "    plt.yticks(np.arange(n_features), X_train.columns)\n",
    "    plt.xlabel(\"Feature importance\")\n",
    "    plt.ylabel(\"Feature\")\n",
    "plot_feature_importances_cancer(model)"
   ]
  },
  {
   "cell_type": "markdown",
   "id": "6af3c96a",
   "metadata": {},
   "source": [
    "# Saving the model"
   ]
  },
  {
   "cell_type": "code",
   "execution_count": 61,
   "id": "4123b15c",
   "metadata": {},
   "outputs": [
    {
     "data": {
      "text/plain": [
       "['Weather_forecasting.obj']"
      ]
     },
     "execution_count": 61,
     "metadata": {},
     "output_type": "execute_result"
    }
   ],
   "source": [
    "import joblib\n",
    "joblib.dump(model,'Weather_forecasting.obj')"
   ]
  },
  {
   "cell_type": "code",
   "execution_count": null,
   "id": "9d98936c",
   "metadata": {},
   "outputs": [],
   "source": []
  }
 ],
 "metadata": {
  "kernelspec": {
   "display_name": "Python 3",
   "language": "python",
   "name": "python3"
  },
  "language_info": {
   "codemirror_mode": {
    "name": "ipython",
    "version": 3
   },
   "file_extension": ".py",
   "mimetype": "text/x-python",
   "name": "python",
   "nbconvert_exporter": "python",
   "pygments_lexer": "ipython3",
   "version": "3.8.8"
  }
 },
 "nbformat": 4,
 "nbformat_minor": 5
}
